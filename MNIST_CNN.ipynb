{
 "cells": [
  {
   "cell_type": "markdown",
   "id": "caaf8198",
   "metadata": {},
   "source": [
    "# Digit Recognition Simple Convolution Neural Network"
   ]
  },
  {
   "cell_type": "code",
   "execution_count": 4,
   "id": "5ab03037",
   "metadata": {
    "scrolled": true
   },
   "outputs": [],
   "source": [
    "import numpy as np\n",
    "from tensorflow import keras\n",
    "from tensorflow.keras import layers\n",
    "from matplotlib import pyplot as plt\n",
    "from PIL import Image\n",
    "import random"
   ]
  },
  {
   "cell_type": "code",
   "execution_count": 5,
   "id": "f0f03b11",
   "metadata": {
    "scrolled": true
   },
   "outputs": [],
   "source": [
    "# Model / data parameters\n",
    "num_classes = 10\n",
    "input_shape = (28, 28, 1)\n",
    "\n",
    "# the data, split between train and test sets\n",
    "(x_train, y_train), (x_test, y_test) = keras.datasets.mnist.load_data()\n",
    "\n",
    "# Scale images to the [0, 1] range\n",
    "x_train = x_train.astype(\"float32\") / 255\n",
    "x_test = x_test.astype(\"float32\") / 255\n",
    "\n",
    "# convert class vectors to binary class matrices\n",
    "y_train = keras.utils.to_categorical(y_train, num_classes)\n",
    "y_test = keras.utils.to_categorical(y_test, num_classes)"
   ]
  },
  {
   "cell_type": "markdown",
   "id": "9926c148",
   "metadata": {},
   "source": [
    "## How the MNIST images look like"
   ]
  },
  {
   "cell_type": "code",
   "execution_count": 10,
   "id": "4efc8ad4",
   "metadata": {
    "scrolled": true
   },
   "outputs": [
    {
     "data": {
      "image/png": "[encoded data removed]",
      "text/plain": [
       "<Figure size 432x288 with 9 Axes>"
      ]
     },
     "metadata": {
      "needs_background": "light"
     },
     "output_type": "display_data"
    }
   ],
   "source": [
    "# plot some random images\n",
    "for i in range(9):\n",
    "\t# define subplot\n",
    "\tplt.subplot(330 + 1 + i)\n",
    "\t# plot raw pixel data\n",
    "\tplt.imshow(x_train[random.randint(0,59999)], cmap=plt.get_cmap('gray'))\n",
    "# show the figure\n",
    "plt.show()"
   ]
  },
  {
   "cell_type": "code",
   "execution_count": 16,
   "id": "9b3f7bc4",
   "metadata": {
    "scrolled": true
   },
   "outputs": [],
   "source": [
    "# Make sure images have shape (28, 28, 1)\n",
    "x_train = np.expand_dims(x_train, -1)\n",
    "x_test = np.expand_dims(x_test, -1)"
   ]
  },
  {
   "cell_type": "markdown",
   "id": "6c2a0900",
   "metadata": {},
   "source": [
    "## Building the model"
   ]
  },
  {
   "cell_type": "code",
   "execution_count": 12,
   "id": "c81c97fa",
   "metadata": {
    "scrolled": true
   },
   "outputs": [
    {
     "name": "stdout",
     "output_type": "stream",
     "text": [
      "Model: \"sequential\"\n",
      "_________________________________________________________________\n",
      " Layer (type)                Output Shape              Param #   \n",
      "=================================================================\n",
      " conv2d (Conv2D)             (None, 26, 26, 32)        320       \n",
      "                                                                 \n",
      " max_pooling2d (MaxPooling2D  (None, 13, 13, 32)       0         \n",
      " )                                                               \n",
      "                                                                 \n",
      " conv2d_1 (Conv2D)           (None, 11, 11, 64)        18496     \n",
      "                                                                 \n",
      " max_pooling2d_1 (MaxPooling  (None, 5, 5, 64)         0         \n",
      " 2D)                                                             \n",
      "                                                                 \n",
      " flatten (Flatten)           (None, 1600)              0         \n",
      "                                                                 \n",
      " dropout (Dropout)           (None, 1600)              0         \n",
      "                                                                 \n",
      " dense (Dense)               (None, 10)                16010     \n",
      "                                                                 \n",
      "=================================================================\n",
      "Total params: 34,826\n",
      "Trainable params: 34,826\n",
      "Non-trainable params: 0\n",
      "_________________________________________________________________\n"
     ]
    },
    {
     "name": "stderr",
     "output_type": "stream",
     "text": [
      "2021-11-29 18:50:52.779404: W tensorflow/stream_executor/platform/default/dso_loader.cc:64] Could not load dynamic library 'libcuda.so.1'; dlerror: libcuda.so.1: cannot open shared object file: No such file or directory\n",
      "2021-11-29 18:50:52.779426: W tensorflow/stream_executor/cuda/cuda_driver.cc:269] failed call to cuInit: UNKNOWN ERROR (303)\n",
      "2021-11-29 18:50:52.779438: I tensorflow/stream_executor/cuda/cuda_diagnostics.cc:156] kernel driver does not appear to be running on this host (sak-Ubuntu): /proc/driver/nvidia/version does not exist\n",
      "2021-11-29 18:50:52.779626: I tensorflow/core/platform/cpu_feature_guard.cc:151] This TensorFlow binary is optimized with oneAPI Deep Neural Network Library (oneDNN) to use the following CPU instructions in performance-critical operations:  AVX2 AVX512F FMA\n",
      "To enable them in other operations, rebuild TensorFlow with the appropriate compiler flags.\n"
     ]
    }
   ],
   "source": [
    "model = keras.Sequential(\n",
    "    [\n",
    "        keras.Input(shape=input_shape),\n",
    "        layers.Conv2D(32, kernel_size=(3, 3), activation=\"relu\"),\n",
    "        layers.MaxPooling2D(pool_size=(2, 2)),\n",
    "        layers.Conv2D(64, kernel_size=(3, 3), activation=\"relu\"),\n",
    "        layers.MaxPooling2D(pool_size=(2, 2)),\n",
    "        layers.Flatten(),\n",
    "        layers.Dropout(0.5),\n",
    "        layers.Dense(num_classes, activation=\"softmax\"),\n",
    "    ]\n",
    ")\n",
    "\n",
    "model.summary()"
   ]
  },
  {
   "cell_type": "code",
   "execution_count": 13,
   "id": "aa0c8c07",
   "metadata": {
    "scrolled": true
   },
   "outputs": [
    {
     "name": "stdout",
     "output_type": "stream",
     "text": [
      "Epoch 1/15\n",
      "422/422 [==============================] - 10s 23ms/step - loss: 0.3666 - accuracy: 0.8904 - val_loss: 0.0835 - val_accuracy: 0.9778\n",
      "Epoch 2/15\n",
      "422/422 [==============================] - 10s 23ms/step - loss: 0.1122 - accuracy: 0.9656 - val_loss: 0.0585 - val_accuracy: 0.9837\n",
      "Epoch 3/15\n",
      "422/422 [==============================] - 13s 31ms/step - loss: 0.0821 - accuracy: 0.9749 - val_loss: 0.0449 - val_accuracy: 0.9868\n",
      "Epoch 4/15\n",
      "422/422 [==============================] - 12s 29ms/step - loss: 0.0687 - accuracy: 0.9783 - val_loss: 0.0392 - val_accuracy: 0.9895\n",
      "Epoch 5/15\n",
      "422/422 [==============================] - 12s 28ms/step - loss: 0.0613 - accuracy: 0.9808 - val_loss: 0.0419 - val_accuracy: 0.9873\n",
      "Epoch 6/15\n",
      "422/422 [==============================] - 13s 30ms/step - loss: 0.0545 - accuracy: 0.9833 - val_loss: 0.0366 - val_accuracy: 0.9902\n",
      "Epoch 7/15\n",
      "422/422 [==============================] - 14s 33ms/step - loss: 0.0501 - accuracy: 0.9841 - val_loss: 0.0321 - val_accuracy: 0.9915\n",
      "Epoch 8/15\n",
      "422/422 [==============================] - 13s 30ms/step - loss: 0.0476 - accuracy: 0.9849 - val_loss: 0.0344 - val_accuracy: 0.9907\n",
      "Epoch 9/15\n",
      "422/422 [==============================] - 12s 30ms/step - loss: 0.0457 - accuracy: 0.9857 - val_loss: 0.0318 - val_accuracy: 0.9912\n",
      "Epoch 10/15\n",
      "422/422 [==============================] - 12s 29ms/step - loss: 0.0417 - accuracy: 0.9871 - val_loss: 0.0283 - val_accuracy: 0.9922\n",
      "Epoch 11/15\n",
      "422/422 [==============================] - 15s 36ms/step - loss: 0.0387 - accuracy: 0.9876 - val_loss: 0.0293 - val_accuracy: 0.9922\n",
      "Epoch 12/15\n",
      "422/422 [==============================] - 12s 29ms/step - loss: 0.0376 - accuracy: 0.9878 - val_loss: 0.0297 - val_accuracy: 0.9915\n",
      "Epoch 13/15\n",
      "422/422 [==============================] - 12s 29ms/step - loss: 0.0348 - accuracy: 0.9893 - val_loss: 0.0296 - val_accuracy: 0.9920\n",
      "Epoch 14/15\n",
      "422/422 [==============================] - 13s 31ms/step - loss: 0.0341 - accuracy: 0.9887 - val_loss: 0.0313 - val_accuracy: 0.9917\n",
      "Epoch 15/15\n",
      "422/422 [==============================] - 15s 35ms/step - loss: 0.0321 - accuracy: 0.9897 - val_loss: 0.0282 - val_accuracy: 0.9920\n"
     ]
    },
    {
     "data": {
      "text/plain": [
       "<keras.callbacks.History at 0x7fbc2809f670>"
      ]
     },
     "execution_count": 13,
     "metadata": {},
     "output_type": "execute_result"
    }
   ],
   "source": [
    "batch_size = 128\n",
    "epochs = 15\n",
    "\n",
    "model.compile(loss=\"categorical_crossentropy\", optimizer=\"adam\", metrics=[\"accuracy\"])\n",
    "\n",
    "model.fit(x_train, y_train, batch_size=batch_size, epochs=epochs, validation_split=0.1)"
   ]
  },
  {
   "cell_type": "markdown",
   "id": "01acd80c",
   "metadata": {},
   "source": [
    "## Model Performance on the Testing Set"
   ]
  },
  {
   "cell_type": "code",
   "execution_count": 14,
   "id": "41651348",
   "metadata": {
    "scrolled": true
   },
   "outputs": [
    {
     "name": "stdout",
     "output_type": "stream",
     "text": [
      "Test loss: 0.024136245250701904\n",
      "Test accuracy: 0.991599977016449\n"
     ]
    }
   ],
   "source": [
    "score = model.evaluate(x_test, y_test, verbose=0)\n",
    "print(\"Test loss:\", score[0])\n",
    "print(\"Test accuracy:\", score[1])"
   ]
  },
  {
   "cell_type": "markdown",
   "id": "8166df94",
   "metadata": {},
   "source": [
    "## Test on Custom Image"
   ]
  },
  {
   "cell_type": "code",
   "execution_count": 19,
   "id": "56157d9f",
   "metadata": {
    "scrolled": true
   },
   "outputs": [
    {
     "name": "stdout",
     "output_type": "stream",
     "text": [
      "[[5.7532285e-05 2.3496631e-04 9.9955970e-01 7.5815215e-06 1.8489941e-07\n",
      "  1.3453006e-08 5.7715282e-05 3.6934413e-08 8.2263257e-05 3.2620250e-08]] \n",
      " 2\n"
     ]
    }
   ],
   "source": [
    "image_file = Image.open(\"img.jpg\") # open colour image\n",
    "\n",
    "newsize = (28,28)\n",
    "image_file = image_file.resize(newsize)\n",
    "\n",
    "image_file = image_file.convert('L') # convert image to black and white\n",
    "\n",
    "image_file.save('result.png')\n",
    "a = np.asarray(image_file)\n",
    "#print(a.shape)\n",
    "\n",
    "x_predict=np.zeros((1,28,28))\n",
    "#x_predict[0]=a\n",
    "#print(x_predict.shape)\n",
    "\n",
    "for x in range(0,27):\n",
    "    for y in range(0,27):\n",
    "        x_predict[0][x][y]=a[x][y]/255\n",
    "        #x_predict[0][x][y]=x_train[1][x][y]\n",
    "        #print(str(a[x][y])+' - '+str(x_predict[0][x][y]))\n",
    "\n",
    "print( model.predict(x_predict),'\\n',np.argmax( model.predict(x_predict) ) )"
   ]
  }
 ],
 "metadata": {
  "kernelspec": {
   "display_name": "Python 3",
   "language": "python",
   "name": "python3"
  },
  "language_info": {
   "codemirror_mode": {
    "name": "ipython",
    "version": 3
   },
   "file_extension": ".py",
   "mimetype": "text/x-python",
   "name": "python",
   "nbconvert_exporter": "python",
   "pygments_lexer": "ipython3",
   "version": "3.9.12"
  }
 },
 "nbformat": 4,
 "nbformat_minor": 5
}
